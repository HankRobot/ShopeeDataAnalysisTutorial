{
  "cells": [
    {
      "metadata": {
        "collapsed": true
      },
      "cell_type": "markdown",
      "source": "# Intro Python\n##  Getting started with Python in Jupyter Notebooks\n- **Python 3 in Jupyter notebooks**\n- `print()`\n- comments \n- data types basics\n- variables\n\n\n\n-----\n\n\n><font size=\"5\" color=\"#00A0B2\"  face=\"verdana\"> <B>Student will be able to</B></font>\n- use Python 3 in Jupyter notebooks**  \n- write working code using `print()` and `#` comments\n- combine Strings using string addition (`+`)\n- add numbers in code (`+`) \n "
    },
    {
      "metadata": {},
      "cell_type": "markdown",
      "source": "### &nbsp;\n<font size=\"6\" color=\"#00A0B2\"  face=\"verdana\"> <B>Concept</B></font>\n## Hello World! - python&nbsp; `print()` statement\nUsing code to write \"Hello World!\" on the screen is the traditional first program when learning a new language in computer science\n\nPython has a very simple implementation: \n```python\nprint(\"Hello World!\")\n```  "
    },
    {
      "metadata": {
        "trusted": true
      },
      "cell_type": "code",
      "source": "print(\"Hello World!\")",
      "execution_count": 6,
      "outputs": [
        {
          "output_type": "stream",
          "text": "Hello World!\n",
          "name": "stdout"
        }
      ]
    },
    {
      "metadata": {},
      "cell_type": "markdown",
      "source": "# Concepts\n# Notebooks and Libraries\nJupyter Notebooks provide a balance of jotting down important summary information along with proving a live code development environment where we can write and run python code. This course uses cloud hosted Jupyter Notebooks on Microsoft Azure and we will walk through the basics and some best practices for notebook use.\nadd a notebook library\nNew: https://notebooks.azure.com/library > New Library\nLink: from a shared Azure Notebook library link > open link, sign in> clone and Run\nAdd: open library > Add Notebooks > from computer > navigate to file(s)\nworking in notebook cells\nMarkdown cells display text in a web page format. Markdown is code that formats the way the cell displays (this cell is Markdown)\n \nCode cells contain python code and can be interpreted and run from a cell. Code cells display code and output.\n \nin edit or previously run: cells can display in editing mode or cells can display results of code having been run"
    },
    {
      "metadata": {},
      "cell_type": "markdown",
      "source": "# Concept: Strings\n\nWHAT IS A STRING?\n\n    Strings were used in \"Hello World!\" print function examples. Strings are sets of characters. In Python strings are in double or single quotes like \"Hello World!\" or 'after edit, save!'\n\n    A String is a common type of data, used in programming, consisting of a sequence of 1 or more characters.\n\n    A String is a sequence of characters (aka: a string of characters)\n    Character examples: A, B, C, a, b, c, 1, 2, 3, !, &\n    A String in python is contained in quotes, single(') or double(\")\n    String examples: \"ABC\", 'Joana Dias', 'I have 2 pet cats.', \"item #3 cost $3.29 USD\"\n    Note: the quotes containing a string must come in matched pairs\n\n\"Hello\" or 'Hello' are correctly formatted strings\n\"Hello' is incorrectly formatted starting with double \" and ending with single ' python needs a matching quote to know where the string ends\nExample\n\n#  examples of printing strings with single and double quotes\nprint('strings go in single')\nprint(\"or double quotes\")\n\n\nTask 1\n\nPRINT MESSAGES WITH \"DOUBLE QUOTES\" AND 'SINGLE' QUOTES\n\n\n\n# [ ] enter a string in the print() function using double quotes\n\n"
    },
    {
      "metadata": {
        "trusted": true
      },
      "cell_type": "code",
      "source": "# [ ] enter a string in the print() function using single quotes\nprint('strings go in single')\n# [ ] enter a string in the print() function using double quotes\nprint(\"or double quotes\")",
      "execution_count": 1,
      "outputs": [
        {
          "output_type": "stream",
          "text": "strings go in single\nor double quotes\n",
          "name": "stdout"
        }
      ]
    },
    {
      "metadata": {},
      "cell_type": "markdown",
      "source": "# Concept: Integers\n\nINTEGERS ARE ANOTHER TYPE\n\n    whole numbers such as -2, -1, 0, 1, 2, 3 are Integers\n    Integers are not placed in quotes\n    A String can contain any character, this includes letters, spaces, punctuation, number digits and formatting. In a string with digits (\"123\") the digits are text images rather than representations of numeric values.\n\n    remember a line of python code starting with the pound or hash symbol (#) indicates a comment\n\n    comments are for humans to read and are not run by computers\n\nExample\n\n# printing an Integer with python\nprint(299)\n\n# printing a string made of Integer (number) characters with python\nprint(\"2017\")\n \n \n "
    },
    {
      "metadata": {
        "trusted": true
      },
      "cell_type": "code",
      "source": "# printing an Integer with python\nprint(299)\n# printing a string made of Integer (number) characters with python\nprint(\"2017\")",
      "execution_count": 3,
      "outputs": [
        {
          "output_type": "stream",
          "text": "299\n2017\n",
          "name": "stdout"
        }
      ]
    },
    {
      "metadata": {},
      "cell_type": "markdown",
      "source": "# Concepts: Variables\n\n# VARIABLES & STORING STRINGS IN VARIABLES\n\n    Variables are named containers\n\n    Computer programs often create storage for things that are used in repeated processing like item_price, student_name, stock_symbol. In python a variable is a type of object that can be addressed by name to access the assigned contents.\n\n    Name a variable staring with a letter or underscore \"_\"\n\nThere are different styles for creating variables this course uses lowercase descriptive names connected by underscores:\n\n    item_price\n    student_name\n    stock_symbol\ndescriptive names reduce the need for comments in the code and make it easier to share code or read code written long ago\n\n    Variables can hold strings\n\n    once a variable is assigned:\n\ncurrent_msg = \"I am a string\"\n\n    a python program can refer to the variable,   current_msg,   in code\n    so that  current_msg, can be used like the string value  (\"I am a string\")   which it stores\n\nVariable reassignment\n\n    We can reassign a variable, changing the contents. current_msg = \"new current message\"\n\nVariables can be used in place of literals\n\n    If we initialize current_msg = \"new current message\" then\n    the literal string \"new current message\" and the variable current_msg are the same when used in code\n\nExample\n\nInitializing variables\nliterals & variables in printing\nVariable reassignment\n \n# initialize the variable  \ncurrent_msg = \"I am a string\"  \n\n# print literal string  \nprint(\"I am a string\")  \n\n# print variable string  \nprint(current_msg)  \n # assign a new string to the current_msg  \ncurrent_msg = \"Run this cell using Ctrl+Enter\"  \n\nprint(current_msg) "
    },
    {
      "metadata": {
        "trusted": true
      },
      "cell_type": "code",
      "source": "# initialize the variable  \ncurrent_msg = \"I am a string\"  \n\n# print literal string  \nprint(\"I am a string\")  \n\n# print variable string  \nprint(current_msg)  \n # assign a new string to the current_msg  \ncurrent_msg = \"Run this cell using Ctrl+Enter\"  \n\nprint(current_msg) ",
      "execution_count": 4,
      "outputs": [
        {
          "output_type": "stream",
          "text": "I am a string\nI am a string\nRun this cell using Ctrl+Enter\n",
          "name": "stdout"
        }
      ]
    },
    {
      "metadata": {},
      "cell_type": "markdown",
      "source": "# Concepts: Data Types\n\n# DATA TYPES IN VARIABLES\n\nvariables can be initialized with different data types. Below we see item_price is a decimal (aka - float) and student_name is string\n\n    item_price = 10.25 #item_price initialized as a numeric value (no quotes)\n    student_name =\"Dias, Joana\" #student_name initialized as a string\n    license_plate = \"123A\" #license_plate initialized as a string\nVariables can start initialized as an Integer number data type\n\nx = 22\n    here the Integer 22  value was assigned to the variable  x\n\n    The type of data a variable holds can be changed,\n\n    Python variables can change the type of data a variable holds\n\nx = 22\nx = \"I am a string\"\nx  changed type from Integer  x = 22   to string  x = \"I am a string\"\n\n    Best Practice: Friendly Names\n    Friendly name examples, (item_price, student_name,license_plate), were used above.\n    Variables help us to write code that can be used repeatedly\n\nA personalized letter can be sent to every student with individual names by using a name in a variable. Let's start with printing a name based on string variable.\n\nCreate a variable, name, at the top of the next cell. Assign a string value to   name.\n\nRemember to use the quotes for string values\n\nExamples\n\nname = \"Joana Dias\"\nprint(name)\ntest_value = 22\nprint(test_value)\ntest_value = \"Joana\"\nprint(test_value)"
    },
    {
      "metadata": {
        "trusted": true
      },
      "cell_type": "code",
      "source": "name = \"Joana Dias\"\nprint(name)\ntest_value = 22\nprint(test_value)\ntest_value = \"Joana\"\nprint(test_value)",
      "execution_count": 5,
      "outputs": [
        {
          "output_type": "stream",
          "text": "Joana Dias\n22\nJoana\n",
          "name": "stdout"
        }
      ]
    },
    {
      "metadata": {
        "trusted": true
      },
      "cell_type": "markdown",
      "source": "# Concept: Using type\n\nUSING THE PYTHON TYPE() FUNCTION\n\n    type() returns the data type of Python objects\n\n    str, int, float\n\nWhat does using type() reveal?\n\n    str: when type() returns str that means it has evaluated a string characters (numbers, letters, punctuation...) in quotes\n    int: when type() returns int that means it has evaluated an Integer (+/- whole numbers)\n    float: when type() returns float that means it has evaluated decimal numbers (e.g. 3.33, 0.01, 9.9999 and 3.0), ...more later in the course\nExample\n\nRead and run the code for each sample\n \ntype(\"Hello World!\")\ntype(501)\ntype(8.33333)\nstudent_name = \"Colette Browning\"\ntype(student_name)\n"
    },
    {
      "metadata": {
        "trusted": true
      },
      "cell_type": "code",
      "source": "type(\"Hello World!\")\n\n",
      "execution_count": 7,
      "outputs": [
        {
          "output_type": "execute_result",
          "execution_count": 7,
          "data": {
            "text/plain": "str"
          },
          "metadata": {}
        }
      ]
    },
    {
      "metadata": {
        "trusted": true
      },
      "cell_type": "code",
      "source": "type(501)",
      "execution_count": 8,
      "outputs": [
        {
          "output_type": "execute_result",
          "execution_count": 8,
          "data": {
            "text/plain": "int"
          },
          "metadata": {}
        }
      ]
    },
    {
      "metadata": {
        "trusted": true
      },
      "cell_type": "code",
      "source": "\ntype(8.33333)",
      "execution_count": 9,
      "outputs": [
        {
          "output_type": "execute_result",
          "execution_count": 9,
          "data": {
            "text/plain": "float"
          },
          "metadata": {}
        }
      ]
    },
    {
      "metadata": {
        "trusted": true
      },
      "cell_type": "code",
      "source": "student_name = \"Colette Browning\"\ntype(student_name)",
      "execution_count": 10,
      "outputs": [
        {
          "output_type": "execute_result",
          "execution_count": 10,
          "data": {
            "text/plain": "str"
          },
          "metadata": {}
        }
      ]
    },
    {
      "metadata": {},
      "cell_type": "markdown",
      "source": "# USE ADDITION IN PRINT ()\n\nUse print() to show the results of multiple lines of output\n\nExample\n\n    ADDITION IN VARIABLE ASSIGNMENTS AND IN PRINT()\n\n# review & run code for assigning variables & using addition\nadd_two = 34 + 16\nfirst_name = \"Alton\"\ngreeting = \"Happy Birthday \" + first_name\n\nprint(add_two)\nprint(greeting)\n#  review & run code for Integer addition in variables and in a print function\nint_sum = 6 + 7\nprint(int_sum)\nprint(11 + 15)\nprint()\n# string addition in variables and in print()function\nhat_msg = \"I do not wear \" + \"a hat\"  \nprint(hat_msg)\nprint(\"at \" + \"dinner\")"
    },
    {
      "metadata": {
        "trusted": true
      },
      "cell_type": "code",
      "source": "hat_msg = \"I do not wear \" + \"a hat\"  \nprint(hat_msg)\nprint(\"at \" + \"dinner\")",
      "execution_count": 11,
      "outputs": [
        {
          "output_type": "stream",
          "text": "I do not wear a hat\nat dinner\n",
          "name": "stdout"
        }
      ]
    },
    {
      "metadata": {
        "trusted": true
      },
      "cell_type": "code",
      "source": "int_sum = 6 + 7 \nprint(int_sum) \nprint(11 + 15) \nprint()",
      "execution_count": 2,
      "outputs": [
        {
          "output_type": "stream",
          "text": "13\n26\n\n",
          "name": "stdout"
        }
      ]
    },
    {
      "metadata": {
        "trusted": true
      },
      "cell_type": "code",
      "source": "add_two = 34 + 16 \nfirst_name = \"Alton\" \ngreeting = \"Happy Birthday \" + first_name\nprint(add_two) \nprint(greeting)\n",
      "execution_count": 3,
      "outputs": [
        {
          "output_type": "stream",
          "text": "50\nHappy Birthday Alton\n",
          "name": "stdout"
        }
      ]
    },
    {
      "metadata": {},
      "cell_type": "markdown",
      "source": "# Concept: user input\n\nINPUT()\n\nget information from users with input()\n\nthe input() function prompts the user to supply data returning that data as a string\n\nExample\n\n# review and run code - enter a small integer in the text box\nprint(\"enter a small int: \")\nsmall_int = input()\nprint(\"small int: \")\nprint(small_int)"
    },
    {
      "metadata": {
        "trusted": true
      },
      "cell_type": "code",
      "source": "print(\"enter a small int: \")\nsmall_int = input()\nprint(\"small int: \")\nprint(small_int)",
      "execution_count": 12,
      "outputs": [
        {
          "output_type": "stream",
          "text": "enter a small int: \n1\nsmall int: \n1\n",
          "name": "stdout"
        }
      ]
    },
    {
      "metadata": {},
      "cell_type": "markdown",
      "source": "# Concept: input() prompts\n\nUSER PROMPTS USING INPUT()\n\n    the input() function has an optional string argument which displays the string intended to inform a user what to enter\n    input() works similar to print() in the way it displays arguments as output\n# Example\n\nstudent_name = input(\"enter the student name: \")  \nprint(\"Hi \" + student_name)"
    },
    {
      "metadata": {
        "trusted": true
      },
      "cell_type": "code",
      "source": "student_name = input(\"enter the student name: \")  \nprint(\"Hi \" + student_name)",
      "execution_count": 5,
      "outputs": [
        {
          "output_type": "stream",
          "name": "stdout",
          "text": "enter the student name: John\nHi John\n"
        }
      ]
    },
    {
      "metadata": {},
      "cell_type": "markdown",
      "source": "# Concept: print formatting\n\nUSING COMMA PRINT FORMATTING WITH STRINGS\n\n    Python provides several methods of formatting strings in the print() function beyond string addition\n\n    The print() function supports using commas to combine strings for output\n    by comma separating strings print() will output each string separated with a space by default\n    \n    comma formatted print()\n\nprint 3 strings on the same line using commas inside the print() function\nExample\n\n# review and run code\n\nname = \"Colette\"\n\n# string addition \nprint(\"Hello \" + name + \"!\")\n\n# comma separation formatting\nprint(\"Hello to\",name,\"who is from the city\")"
    },
    {
      "metadata": {
        "trusted": true
      },
      "cell_type": "code",
      "source": "name = \"John\"\n\nprint(\"Hello to\",name,\"who is from the city\")",
      "execution_count": 6,
      "outputs": [
        {
          "output_type": "stream",
          "text": "Hello to John who is from the city\n",
          "name": "stdout"
        }
      ]
    },
    {
      "metadata": {},
      "cell_type": "markdown",
      "source": "# Concept: Function with Arguments\n\nCALLING FUNCTIONS WITH ARGUMENTS\n\nFunctions are used for code tasks that are intended to be reused\n\nPython allows us to create User Defined Functions and provides many Built-in Functions such as print()\n\n    print() can be called using arguments (or without) and sends text to standard output, such as the console.\n    print() uses Parameters to define the variable Arguments that can be passed to the Function.\n    print() defines multiple string/numbers parameters which means we can send a long list of Arguments to print(), separated by commas.\n    print() can also be called directly with just its name and empty parenthesis and it will return a blank line to standard output\nExample\n\nprint('Hello World!', 'I am sending string arguments to print ')\nstudent_age = 17\nstudent_name = \"Hiroto Yamaguchi\"\nprint(student_name,'will be in the class for',student_age, 'year old students.')\nprint(\"line 1\")\nprint(\"line 2\")\n# line 3 is an empty return - the default when no arguments\nprint()\nprint(\"line 4\")"
    },
    {
      "metadata": {},
      "cell_type": "markdown",
      "source": "# Concept: Simple Functions\n\nCREATE A SIMPLE FUNCTION\n\nCreating user defined functions is at the core of computer programming. Functions enable code reuse and make code easier to develop and maintain.\n\nbasics of a user defined function\n\ndefine a function with def\nuse indentation (4 spaces)\ndefine parameters\noptional parameters\nreturn values (or none)\nfunction scope (basics defaults)\ndef some_function():\n\nuse the def statement when creating a function\n\nuse a function name that starts with a letter or underscore (usually a lower-case letter)\nfunction names can contain letters, numbers or underscores\nparenthesis () follow the function name\na colon : follows the parenthesis\nthe code for the function is indented under the function definition (use 4 spaces for this course)\ndef some_function():\n   #code the function tasks indented here    \nThe end of the function is denoted by returning to no indentation\n\nExample\n\n# defines a function named say_hi\ndef say_hi():\n    print(\"Hello there!\")\n    print(\"goodbye\")\n# define three_three \ndef three_three():\n    print(33) "
    },
    {
      "metadata": {},
      "cell_type": "markdown",
      "source": "# Concept: Calling Functions\n\nCALLING A FUNCTION BY NAME\n\nCall a simple function using the function name followed by parentheses. For instance, calling print function is\nprint()\n\nExample\n\n# Program defines and calls the say_hi & three_three functions\n# [ ] review and run the code\n\ndef say_hi():\n    print(\"Hello there!\")\n    print(\"goodbye\")\n# end of indentation ends the function\n\n# define three_three \ndef three_three():\n    print(33) \n\n# calling the functions\nsay_hi()\nprint()\nthree_three()"
    },
    {
      "metadata": {
        "trusted": true
      },
      "cell_type": "code",
      "source": "# [ ] review and run the code\n\ndef say_hi():\n    print(\"Hello there!\")\n    print(\"goodbye\")\n# end of indentation ends the function\n\n# define three_three \ndef three_three():\n    print(33) \n\n# calling the functions\nsay_hi()\nprint()\nthree_three()",
      "execution_count": 16,
      "outputs": [
        {
          "output_type": "stream",
          "text": "Hello there!\ngoodbye\n\n33\n",
          "name": "stdout"
        }
      ]
    },
    {
      "metadata": {},
      "cell_type": "markdown",
      "source": "# Concept: Function Parameters\n\nFUNCTIONS THAT HAVE PARAMETERS\n\nprint() and type() are examples of built-in functions that have Parameters defined\n\ntype() has a parameter for a Python Object and sends back the type of the object\n\nan Argument is a value given for a parameter when calling a function\n\ntype is called providing an Argument - in this case the string \"Hello\"\ntype(\"Hello\")\nDEFINING FUNCTION PARAMETERS\n\nParameters are defined inside of the parenthesis as part of a function def statement\nParameters are typically copies of objects that are available for use in function code\ndef say_this(phrase):  \n      print(phrase)\nFUNCTION CAN HAVE DEFAULT ARGUMENTS\n\nDefault Arguments are used if no argument is supplied\nDefault arguments are assigned when creating the parameter list\ndef say_this(phrase = \"Hi\"):  \n      print(phrase)\nExample\n\n# yell_this() yells the string Argument provided\ndef yell_this(phrase):\n    print(phrase.upper() + \"!\")\n    \n# call function with a string\nyell_this(\"It is time to save the notebook\")\n# use a default argument\ndef say_this(phrase = \"Hi\"):  \n    print(phrase)\n        \nsay_this()\nsay_this(\"Bye\")\n"
    },
    {
      "metadata": {
        "trusted": true
      },
      "cell_type": "code",
      "source": "# yell_this() yells the string Argument provided\ndef yell_this(phrase):\n    print(phrase.upper() + \"!\")\n    \n# call function with a string\nyell_this(\"It is time to learn Python \")\n# use a default argument\ndef say_this(phrase = \"Hi\"):  \n    print(phrase)\n        \nsay_this()\nsay_this(\"Bye\")",
      "execution_count": 9,
      "outputs": [
        {
          "output_type": "stream",
          "text": "IT IS TIME TO LEARN PYTHON !\nHi\nBye\n",
          "name": "stdout"
        }
      ]
    },
    {
      "metadata": {},
      "cell_type": "markdown",
      "source": "# Concept: Function with Return Value\n\nCALLING A FUNCTION WITH A RETURN VALUE\n\ntype() returns an object type\ntype() can be called with a float the return value can be stored in a variable\nobject_type = type(2.33)\nCREATING A FUNCTION WITH A RETURN VALUE\n\nreturn keyword in a function returns a value after exiting the function\ndef msg_double(phrase):\n      double = phrase + \" \" + phrase\n      return double\nExample\n\nreview and run the code\n\n# Message double returns the string Argument doubled\ndef msg_double(phrase):\n      double = phrase + \" \" + phrase\n      return double\n\n# save return value in variable\nmsg_2x = msg_double(\"let's go\")\nprint(msg_2x)\n# example of functions with return values used in functions\ndef msg_double(phrase):\n      double = phrase + \" \" + phrase\n      return double\n\n# prints the returned object\nprint(msg_double(\"Save Now!\"))\n\n# echo the type of the returned object\ntype(msg_double(\"Save Now!\"))\n"
    },
    {
      "metadata": {
        "trusted": true
      },
      "cell_type": "code",
      "source": "def msg_double(phrase): \n    double = phrase + \" \" + phrase \n    return double\nmsg_2x = msg_double(\"let's go to Lithan \") \nprint(msg_2x)",
      "execution_count": 8,
      "outputs": [
        {
          "output_type": "stream",
          "text": "let's go to Lithan  let's go to Lithan \n",
          "name": "stdout"
        }
      ]
    },
    {
      "metadata": {},
      "cell_type": "markdown",
      "source": "# Example\n\nreview and run the code\n\ndef make_schedule(period1, period2):\n    schedule = (\"[1st] \" + period1.title() + \", [2nd] \" + period2.title())\n    return schedule\n\nstudent_schedule = make_schedule(\"mathematics\", \"history\")\nprint(\"SCHEDULE:\", student_schedule)"
    },
    {
      "metadata": {
        "trusted": true
      },
      "cell_type": "code",
      "source": "def make_schedule(period1, period2):\n    schedule = (\"[1st] \" + period1.title() + \", [2nd] \" + period2.title())\n    return schedule\n\nstudent_schedule = make_schedule(\"Python programming\", \"Data Science \")\nprint(\"SCHEDULE:\", student_schedule)",
      "execution_count": 11,
      "outputs": [
        {
          "output_type": "stream",
          "text": "SCHEDULE: [1st] Python Programming, [2nd] Data Science \n",
          "name": "stdout"
        }
      ]
    },
    {
      "metadata": {},
      "cell_type": "markdown",
      "source": "# Concept: Boolean Conditional\n\nCONDITIONALS USE TRUE OR FALSE\n\nif\nelse\n\n# Example\n\nif True:\n    print(\"True means do something\")\nelse:\n    print(\"Not True means do something else\")\nhot_tea = True\n\nif hot_tea:\n    print(\"enjoy some hot tea!\")\nelse:\n    print(\"enjoy some tea, and perhaps try hot tea next time.\")\n    \n    \n    \n# USING CONDITIONALS WITH BOOLEAN STRING TEST METHODS\n\nif student_name.isalpha():\n.isalnum()\n.istitle()\n.isdigit()\n.islower()\n.startswith()\nExample\n\n# review code and run cell\nfavorite_book = input(\"Enter the title of a favorite book: \")\n\nif favorite_book.istitle():\n    print(favorite_book, \"- nice capitalization in that title!\")\nelse:\n    print(favorite_book, \"- consider capitalization throughout for book titles.\")\n# review code and run cell\na_number = input(\"enter a positive integer number: \")\n\nif a_number.isdigit():\n    print(a_number, \"is a positive integer\")\nelse:\n    print(a_number, \"is not a positive integer\")\n    \n"
    },
    {
      "metadata": {
        "trusted": true
      },
      "cell_type": "code",
      "source": "if True:\n    print(\"True means do something\")\nelse:\n    print(\"Not True means do something else\")\nhot_tea = True\n\nif hot_tea:\n    print(\"enjoy some hot tea!\")\nelse:\n    print(\"enjoy some tea, and perhaps try hot tea next time.\")",
      "execution_count": null,
      "outputs": []
    },
    {
      "metadata": {
        "trusted": true
      },
      "cell_type": "code",
      "source": "favorite_book = input(\"Enter the title of a favorite book: \")\n\nif favorite_book.istitle():\n    print(favorite_book, \"- nice capitalization in that title!\")\nelse:\n    print(favorite_book, \"- consider capitalization throughout for book titles.\")",
      "execution_count": null,
      "outputs": []
    },
    {
      "metadata": {},
      "cell_type": "markdown",
      "source": "# Concept: Conditional elif\n\n# USING THE CONDITIONAL ELIF\n\nReview: if and else\n\n    if means \"if a condition exists then do some task.\" if is usually followed by else\n    else means \"or else after we have tested if, then do an alternative task\"\n    When there is a need to test for multiple conditions there is elif\n\n    elif  statement follows  if, and means \"else, if \" another condition exists do something else\n    elif  can be used many times\n    else  is used after the last test condition (if or elif)\n    in pseudo code\n\nIf it is raining bring an umbrella\nor Else If  (elif) it is snowing bring a warm coat\nor Else go as usual\n\nLike else, the elif only executes when the previous if conditional is False\n\nExample\n\n# [ ] review the code then run testing different inputs\n# WHAT TO WEAR\nweather = input(\"Enter weather (sunny, rainy, snowy): \") \n\nif weather.lower() == \"sunny\":\n    print(\"Wear a t-shirt\")\nelif weather.lower() == \"rainy\":\n    print(\"Bring an umbrella and boots\")\nelif weather.lower() == \"snowy\":\n    print(\"Wear a warm coat and hat\")\nelse:\n    print(\"Sorry, not sure what to suggest for\", weather)"
    },
    {
      "metadata": {
        "trusted": true
      },
      "cell_type": "code",
      "source": "weather = input(\"Enter weather (sunny, rainy, snowy): \") \n\nif weather.lower() == \"sunny\":\n    print(\"Wear a t-shirt\")\nelif weather.lower() == \"rainy\":\n    print(\"Bring an umbrella and boots\")\nelif weather.lower() == \"snowy\":\n    print(\"Wear a warm coat and hat\")\nelse:\n    print(\"Sorry, not sure what to suggest for\", weather)",
      "execution_count": 14,
      "outputs": [
        {
          "output_type": "stream",
          "name": "stdout",
          "text": "Enter weather (sunny, rainy, snowy): rainy\nBring an umbrella and boots\n"
        }
      ]
    },
    {
      "metadata": {},
      "cell_type": "markdown",
      "source": "# Concept: while True loop\n\n# USING THE WHILE TRUE: LOOP\n\nwhile True: is known as the forever loop because it ...loops forever\n\nUsing the while True: statement results in a loop that continues to run forever\n...or, until the loop is interrupted, such as with a break statement\n\nBREAK\n\nin a while loop, causes code flow to exit the loop\n\na conditional can implement break to exit a while True loop\n\n# [ ] review WHAT TO WEAR code then run testing different inputs\nwhile True:\n    weather = input(\"Enter weather (sunny, rainy, snowy, or quit): \") \n    print()\n\n    if weather.lower() == \"sunny\":\n        print(\"Wear a t-shirt and sunscreen\")\n        break\n    elif weather.lower() == \"rainy\":\n        print(\"Bring an umbrella and boots\")\n        break\n    elif weather.lower() == \"snowy\":\n        print(\"Wear a warm coat and hat\")\n        break\n    elif weather.lower().startswith(\"q\"):\n        print('\"quit\" detected, exiting')\n        break\n    else:\n        print(\"Sorry, not sure what to suggest for\", weather +\"\\n\")\n"
    },
    {
      "metadata": {
        "trusted": true
      },
      "cell_type": "code",
      "source": "while True:\n    weather = input(\"Enter weather (sunny, rainy, snowy, or quit): \") \n    print()\n\n    if weather.lower() == \"sunny\":\n        print(\"Wear a t-shirt and sunscreen\")\n        break\n    elif weather.lower() == \"rainy\":\n        print(\"Bring an umbrella and boots\")\n        break\n    elif weather.lower() == \"snowy\":\n        print(\"Wear a warm coat and hat\")\n        break\n    elif weather.lower().startswith(\"q\"):\n        print('\"quit\" detected, exiting')\n        break\n    else:\n        print(\"Sorry, not sure what to suggest for\", weather +\"\\n\")\n\n",
      "execution_count": 2,
      "outputs": [
        {
          "output_type": "stream",
          "name": "stdout",
          "text": "Enter weather (sunny, rainy, snowy, or quit): sunnuy\n\nSorry, not sure what to suggest for sunnuy\n\nEnter weather (sunny, rainy, snowy, or quit): sunny\n\nWear a t-shirt and sunscreen\n"
        }
      ]
    },
    {
      "metadata": {},
      "cell_type": "markdown",
      "source": "# What is Chat Bot \n\n\n \nChatbots are the innovation done by intelligent humans to serve humanity intelligently. It’s the most advanced & simplest way humans can interact with computers to get their things done.\nAs per Wiki:\nA chatbot (also known as a smartbot, conversational bot, chatterbot, interactive agent, conversational interface, Conversational AI, talkbot or artificial conversational entity) is a computer program or an artificial intelligence which conducts a conversation via auditory or textual methods.\n\nAn artificial intelligence developed to collect or provide online information to customers or learners interactively. \nArtificial intelligence is changing the way we search and get things done and Chatbots are the real example of human aspiration to get rid of doing things which doesn’t excites them much.\n\n\n\n# How Chatbot Works? What is the technology empowering Them ?\nMost of the chatbots are a kind of messaging interface where instead of humans answering to your messages bots are responding. fundamentally they may look like another app. But the catch is that UI layer where you interact.\nThe conversation humans have with bots is powered by ML algorithms which breaks down your messages into human understandable natural languages using NLP techniques and responds to your queries similar to what you can expect from any human on the other side .\n\n\n\nThey usually rely on machine learning, especially on NLP. \n\n# Examples\nApple’s Siri\nAmazon’s Alexa\nGoogle Assistant\nMicrosoft’s Cortana  \n"
    },
    {
      "metadata": {
        "trusted": true
      },
      "cell_type": "code",
      "source": "import random\nwords = (\"hi\", \"hey\",\"greetings\")\nresp = [\"Good Morning\"]\n\ndef fun(sent):\n    for i in sent.split(' '):\n        if i.lower() in words:\n            return random.choice(resp)\n        else:\n            return \"i dont know \"\nwhile True:\n    ip = input(\"You:\")\n    bot = fun(ip)\n    print(\"Bot:\" + bot)\n    if \"bye\" in ip:\n        break",
      "execution_count": 1,
      "outputs": [
        {
          "output_type": "stream",
          "name": "stdout",
          "text": "You:hi\nBot:Good Morning\nYou:\nBot:i dont know \nYou:bye\nBot:i dont know \n"
        }
      ]
    },
    {
      "metadata": {
        "trusted": true
      },
      "cell_type": "code",
      "source": "import random\nimport sys\nwords = (\n        \"How are you\",\n         \"What is your name\",\n         \"How is the weather today\")\nresp = [\"im fine thank you \", \n        \"bot\",\n        \"Sunny\"]\n\ndef wordslist():\n    for i in range(len(words)):\n        print(str(i)+\":\"+words[i])\ndef checkwordsbyindex():\n    wordslist()\n    Qid = input(\"Please select your options\")\n    Resid = ''\n    if \"bye\" in Qid:\n        sys.exit()\n    elif int(Qid) < len(words):\n        Resid = resp[int(Qid)]\n    else:\n        Resid = \"i dont knwo yet\"\n    return Resid \nwhile True:\n    response  = checkwordsbyindex()\n    print(\"bot reposnse:\" + response)",
      "execution_count": null,
      "outputs": [
        {
          "output_type": "stream",
          "text": "0:How are you\n1:What is your name\n2:How is the weather today\nPlease select your options0\nbot reposnse:im fine thank you \n0:How are you\n1:What is your name\n2:How is the weather today\nPlease select your options1\nbot reposnse:bot\n0:How are you\n1:What is your name\n2:How is the weather today\nPlease select your options3\nbot reposnse:i dont knwo yet\n0:How are you\n1:What is your name\n2:How is the weather today\n",
          "name": "stdout"
        }
      ]
    }
  ],
  "metadata": {
    "kernelspec": {
      "name": "python36",
      "display_name": "Python 3.6",
      "language": "python"
    },
    "language_info": {
      "mimetype": "text/x-python",
      "nbconvert_exporter": "python",
      "name": "python",
      "pygments_lexer": "ipython3",
      "version": "3.6.6",
      "file_extension": ".py",
      "codemirror_mode": {
        "version": 3,
        "name": "ipython"
      }
    },
    "celltoolbar": "Edit Metadata"
  },
  "nbformat": 4,
  "nbformat_minor": 2
}