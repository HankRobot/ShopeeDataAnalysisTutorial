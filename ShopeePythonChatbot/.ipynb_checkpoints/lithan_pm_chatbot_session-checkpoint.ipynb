{
  "cells": [
    {
      "metadata": {},
      "cell_type": "markdown",
      "source": "# How do Chatbots work?\nThere are broadly two variants of chatbots: \n    Rule-Based and Self-learning.\n# In a Rule-based approach, \n    a bot answers questions based on some rules on which it is trained on. The rules defined can be very simple to very complex. The bots can handle simple queries but fail to manage complex ones.\n# Self-learning bots \n    are the ones that use some Machine Learning-based approaches and are definitely more efficient than rule-based bots. These bots can be of further two types: Retrieval Based or Generative\ni) In retrieval-based models, a chatbot uses some heuristic to select a response from a library of predefined responses. The chatbot uses the message and context of the conversation for selecting the best response from a predefined list of bot messages. The context can include a current position in the dialogue tree, all previous messages in the conversation, previously saved variables (e.g. username). Heuristics for selecting a response can be engineered in many different ways, from rule-based if-else conditional logic to machine learning classifiers.\nii) Generative bots can generate the answers and not always replies with one of the answers from a set of answers. This makes them more intelligent as they take word by word from the query and generates the answers."
    },
    {
      "metadata": {},
      "cell_type": "markdown",
      "source": "# Building a Simple Chatbot using NLTK \n\n![Alt text](https://cdn-images-1.medium.com/max/800/1*pPcVfZ7i-gLMabUol3zezA.gif)\n\nHistory of chatbots dates back to 1966 when a computer program called ELIZA was invented by Weizenbaum. It imitated the language of a psychotherapist from only 200 lines of code. You can still converse with it here: [Eliza](http://psych.fullerton.edu/mbirnbaum/psych101/Eliza.htm?utm_source=ubisend.com&utm_medium=blog-link&utm_campaign=ubisend). \n\nOn similar lines let's create a very basic chatbot utlising the Python's NLTK library.It's a very simple bot with hardly any cognitive skills,but still a good way to get into NLP and get to know about chatbots.\n\n "
    },
    {
      "metadata": {},
      "cell_type": "markdown",
      "source": "## NLP\nThe field of study that focuses on the interactions between human language and computers is called Natural Language Processing, or NLP for short. It sits at the intersection of computer science, artificial intelligence, and computational linguistics\n\nNLP is a way for computers to analyze, understand, and derive meaning from human language in a smart and useful way. By utilizing NLP, developers can organize and structure knowledge to perform tasks such as automatic summarization, translation, named entity recognition, relationship extraction, sentiment analysis, speech recognition, and topic segmentation.\n\n# NLTK: A Brief Intro\n    NLTK(Natural Language Toolkit) is a leading platform for building Python programs to work with human language data. It provides easy-to-use interfaces to over 50 corpora and lexical resources such as WordNet, along with a suite of text processing libraries for classification, tokenization, stemming, tagging, parsing, and semantic reasoning, wrappers for industrial-strength NLP libraries.\n    NLTK has been called “a wonderful tool for teaching and working in, computational linguistics using Python,” and “an amazing library to play with natural language.”\n     \nDownloading and installing NLTK\nInstall NLTK: run pip install nltk from your terminal \nTest installation: run python then type import nltk\n\n\n \nInstalling NLTK Packages\n\nimport NLTK and run nltk.download().\n\nThis will open the NLTK downloader from where you can choose the corpora and models to download. You can also download all packages at once.\n\n"
    },
    {
      "metadata": {},
      "cell_type": "markdown",
      "source": "## Import necessary libraries"
    },
    {
      "metadata": {
        "trusted": true
      },
      "cell_type": "code",
      "source": "import io\nimport random\nimport string # to process standard python strings\nimport warnings\nimport numpy as np\nfrom sklearn.feature_extraction.text import TfidfVectorizer\nfrom sklearn.metrics.pairwise import cosine_similarity\nimport warnings\nwarnings.filterwarnings('ignore')",
      "execution_count": null,
      "outputs": []
    },
    {
      "metadata": {},
      "cell_type": "markdown",
      "source": "## Downloading and installing NLTK\nNLTK(Natural Language Toolkit) is a leading platform for building Python programs to work with human language data. It provides easy-to-use interfaces to over 50 corpora and lexical resources such as WordNet, along with a suite of text processing libraries for classification, tokenization, stemming, tagging, parsing, and semantic reasoning, wrappers for industrial-strength NLP libraries.\n\n[Natural Language Processing with Python](http://www.nltk.org/book/) provides a practical introduction to programming for language processing.\n\nFor platform-specific instructions, read [here](https://www.nltk.org/install.html)\n\n"
    },
    {
      "metadata": {
        "trusted": true
      },
      "cell_type": "code",
      "source": "pip install nltk",
      "execution_count": 4,
      "outputs": [
        {
          "output_type": "stream",
          "text": "\nThe following command must be run outside of the IPython shell:\n\n    $ pip install nltk\n\nThe Python package manager (pip) can only be used from outside of IPython.\nPlease reissue the `pip` command in a separate terminal or command prompt.\n\nSee the Python documentation for more informations on how to install packages:\n\n    https://docs.python.org/3/installing/\n",
          "name": "stdout"
        }
      ]
    },
    {
      "metadata": {},
      "cell_type": "markdown",
      "source": "### Installing NLTK Packages\n\n\n"
    },
    {
      "metadata": {
        "trusted": true
      },
      "cell_type": "code",
      "source": "import nltk\nfrom nltk.stem import WordNetLemmatizer\nnltk.download('popular', quiet=True) # for downloading packages\n#nltk.download('punkt') # first-time use only\n#nltk.download('wordnet') # first-time use only",
      "execution_count": null,
      "outputs": []
    },
    {
      "metadata": {},
      "cell_type": "markdown",
      "source": "# Text Pre- Processing with NLTK\n\n    The main issue with text data is that it is all in text format (strings). However, Machine learning algorithms need some sort of numerical feature vector in order to perform the task. So before we start with any NLP project we need to pre-process it to make it ideal for work. Basic text pre-processing includes:\n1. Converting the entire text into uppercase or lowercase, so that the algorithm does not treat the same words in different cases as different\n2. Tokenization: Tokenization is just the term used to describe the process of converting the normal text strings into a list of tokens i.e words that we actually want. Sentence tokenizer can be used to find the list of sentences and Word tokenizer can be used to find the list of words in strings. The NLTK data package includes a pre-trained Punkt tokenizer for English.\n3. Removing Noise i.e everything that isn’t in a standard number or letter.\n4. Removing Stop words. Sometimes, some extremely common words which would appear to be of little value in helping select documents matching a user need are excluded from the vocabulary entirely. These words are called stop words\n5. Stemming: Stemming is the process of reducing inflected (or sometimes derived) words to their stem, base or root form — generally a written word form. Example if we were to stem the following words: “Stems”, “Stemming”, “Stemmed”, “and Stemtization”, the result would be a single word “stem”.\n6. Lemmatization: A slight variant of stemming is lemmatization. The major difference between these is, that, stemming can often create non-existent words, whereas lemmas are actual words. So, your root stem, meaning the word you end up with, is not something you can just look up in a dictionary, but you can look up a lemma. Examples of Lemmatization are that “run” is a base form for words like “running” or “ran” or that the word “better” and “good” are in the same lemma so they are considered the same.\n\n\n "
    },
    {
      "metadata": {},
      "cell_type": "markdown",
      "source": "## Reading in the corpus\n\nFor our example,we will be using the Wikipedia page for chatbots as our corpus. Copy the contents from the page and place it in a text file named ‘chatbot.txt’. However, you can use any corpus of your choice."
    },
    {
      "metadata": {
        "trusted": true
      },
      "cell_type": "code",
      "source": "f=open('chatbot.txt','r',errors = 'ignore')\nraw=f.read()\nraw = raw.lower()# converts to lowercase",
      "execution_count": 1,
      "outputs": []
    },
    {
      "metadata": {},
      "cell_type": "markdown",
      "source": "\nThe main issue with text data is that it is all in text format (strings). However, the Machine learning algorithms need some sort of numerical feature vector in order to perform the task. So before we start with any NLP project we need to pre-process it to make it ideal for working. Basic text pre-processing includes:\n\n* Converting the entire text into **uppercase** or **lowercase**, so that the algorithm does not treat the same words in different cases as different\n\n* **Tokenization**: Tokenization is just the term used to describe the process of converting the normal text strings into a list of tokens i.e words that we actually want. Sentence tokenizer can be used to find the list of sentences and Word tokenizer can be used to find the list of words in strings.\n\n_The NLTK data package includes a pre-trained Punkt tokenizer for English._\n\n* Removing **Noise** i.e everything that isn’t in a standard number or letter.\n* Removing the **Stop words**. Sometimes, some extremely common words which would appear to be of little value in helping select documents matching a user need are excluded from the vocabulary entirely. These words are called stop words\n* **Stemming**: Stemming is the process of reducing inflected (or sometimes derived) words to their stem, base or root form — generally a written word form. Example if we were to stem the following words: “Stems”, “Stemming”, “Stemmed”, “and Stemtization”, the result would be a single word “stem”.\n* **Lemmatization**: A slight variant of stemming is lemmatization. The major difference between these is, that, stemming can often create non-existent words, whereas lemmas are actual words. So, your root stem, meaning the word you end up with, is not something you can just look up in a dictionary, but you can look up a lemma. Examples of Lemmatization are that “run” is a base form for words like “running” or “ran” or that the word “better” and “good” are in the same lemma so they are considered the same.\n\n"
    },
    {
      "metadata": {},
      "cell_type": "markdown",
      "source": "## Tokenisation"
    },
    {
      "metadata": {
        "trusted": true
      },
      "cell_type": "code",
      "source": "sent_tokens = nltk.sent_tokenize(raw)# converts to list of sentences \nword_tokens = nltk.word_tokenize(raw)# converts to list of words",
      "execution_count": 7,
      "outputs": []
    },
    {
      "metadata": {},
      "cell_type": "markdown",
      "source": "## Preprocessing\n\nWe shall now define a function called LemTokens which will take as input the tokens and return normalized tokens."
    },
    {
      "metadata": {
        "trusted": true
      },
      "cell_type": "code",
      "source": "lemmer = nltk.stem.WordNetLemmatizer()\n#WordNet is a semantically-oriented dictionary of English included in NLTK.\ndef LemTokens(tokens):\n    return [lemmer.lemmatize(token) for token in tokens]\nremove_punct_dict = dict((ord(punct), None) for punct in string.punctuation)\n\ndef LemNormalize(text):\n    return LemTokens(nltk.word_tokenize(text.lower().translate(remove_punct_dict)))",
      "execution_count": 8,
      "outputs": []
    },
    {
      "metadata": {},
      "cell_type": "markdown",
      "source": "## Keyword matching\n\nNext, we shall define a function for a greeting by the bot i.e if a user’s input is a greeting, the bot shall return a greeting response.ELIZA uses a simple keyword matching for greetings. We will utilize the same concept here."
    },
    {
      "metadata": {
        "trusted": true
      },
      "cell_type": "code",
      "source": "GREETING_INPUTS = (\"hello\", \"hi\", \"greetings\", \"sup\", \"what's up\",\"hey\",)\nGREETING_RESPONSES = [\"hi\", \"hey\", \"*nods*\", \"hi there\", \"hello\", \"I am glad! You are talking to me\"]\ndef greeting(sentence):\n \n    for word in sentence.split():\n        if word.lower() in GREETING_INPUTS:\n            return random.choice(GREETING_RESPONSES)",
      "execution_count": 9,
      "outputs": []
    },
    {
      "metadata": {},
      "cell_type": "markdown",
      "source": "## Generating Response\n\n### Bag of Words\nAfter the initial preprocessing phase, we need to transform text into a meaningful vector (or array) of numbers. The bag-of-words is a representation of text that describes the occurrence of words within a document. It involves two things:\n\n* A vocabulary of known words.\n\n* A measure of the presence of known words.\n\nWhy is it is called a “bag” of words? That is because any information about the order or structure of words in the document is discarded and the model is only **concerned with whether the known words occur in the document, not where they occur in the document.**\n\nThe intuition behind the Bag of Words is that documents are similar if they have similar content. Also, we can learn something about the meaning of the document from its content alone.\n\nFor example, if our dictionary contains the words {Learning, is, the, not, great}, and we want to vectorize the text “Learning is great”, we would have the following vector: (1, 1, 0, 0, 1).\n\n\n### TF-IDF Approach\nA problem with the Bag of Words approach is that highly frequent words start to dominate in the document (e.g. larger score), but may not contain as much “informational content”. Also, it will give more weight to longer documents than shorter documents.\n\nOne approach is to rescale the frequency of words by how often they appear in all documents so that the scores for frequent words like “the” that are also frequent across all documents are penalized. This approach to scoring is called Term Frequency-Inverse Document Frequency, or TF-IDF for short, where:\n\n**Term Frequency: is a scoring of the frequency of the word in the current document.**\n\n```\nTF = (Number of times term t appears in a document)/(Number of terms in the document)\n```\n\n**Inverse Document Frequency: is a scoring of how rare the word is across documents.**\n\n```\nIDF = 1+log(N/n), where, N is the number of documents and n is the number of documents a term t has appeared in.\n```\n\n# Example:\n\n    Consider a document containing 100 words wherein the word ‘phone’ appears 5 times.\n1. The term frequency (i.e., tf) for phone is then (5 / 100) = 0.05. Now, assume we have 10 million documents and the word phone appears in one thousand of these. \n2. The inverse document frequency (i.e., IDF) is calculated as log(10,000,000 / 1,000) = 4. Thus, \n3. The Tf-IDF weight is the product of these quantities: 0.05 * 4 = 0.20.\n\n\n\n\n\n### Cosine Similarity\n\nTf-idf weight is a weight often used in information retrieval and text mining. This weight is a statistical measure used to evaluate how important a word is to a document in a collection or corpus\n\n```\nCosine Similarity (d1, d2) =  Dot product(d1, d2) / ||d1|| * ||d2||\n```\nwhere d1,d2 are two non zero vectors.\n\n"
    },
    {
      "metadata": {},
      "cell_type": "markdown",
      "source": "To generate a response from our bot for input questions, the concept of document similarity will be used. We define a function response which searches the user’s utterance for one or more known keywords and returns one of several possible responses. If it doesn’t find the input matching any of the keywords, it returns a response:” I am sorry! I don’t understand you”"
    },
    {
      "metadata": {
        "trusted": true
      },
      "cell_type": "code",
      "source": "def response(user_response):\n    robo_response=''\n    sent_tokens.append(user_response)\n    TfidfVec = TfidfVectorizer(tokenizer=LemNormalize, stop_words='english')\n    tfidf = TfidfVec.fit_transform(sent_tokens)\n    vals = cosine_similarity(tfidf[-1], tfidf)\n    idx=vals.argsort()[0][-2]\n    flat = vals.flatten()\n    flat.sort()\n    req_tfidf = flat[-2]\n    if(req_tfidf==0):\n        robo_response=robo_response+\"I am sorry! I don't understand you\"\n        return robo_response\n    else:\n        robo_response = robo_response+sent_tokens[idx]\n        return robo_response\n\n",
      "execution_count": 10,
      "outputs": []
    },
    {
      "metadata": {},
      "cell_type": "markdown",
      "source": "Finally, we will feed the lines that we want our bot to say while starting and ending a conversation depending upon user’s input."
    },
    {
      "metadata": {
        "trusted": true
      },
      "cell_type": "code",
      "source": "flag=True\nprint(\"ROBO: My name is LithanBOT. I will answer your queries about Chatbots. If you want to exit, type Bye!\")\nwhile(flag==True):\n    user_response = input()\n    user_response=user_response.lower()\n    if(user_response!='bye'):\n        if(user_response=='thanks' or user_response=='thank you' ):\n            flag=False\n            print(\"ROBO: You are welcome..\")\n        else:\n            if(greeting(user_response)!=None):\n                print(\"ROBO: \"+greeting(user_response))\n            else:\n                print(\"ROBO: \",end=\"\")\n                print(response(user_response))\n                sent_tokens.remove(user_response)\n    else:\n        flag=False\n        print(\"ROBO: Bye! take care..\")",
      "execution_count": null,
      "outputs": [
        {
          "output_type": "stream",
          "text": "ROBO: My name is LithanBOT. I will answer your queries about Chatbots. If you want to exit, type Bye!\nhi\nROBO: hello\nany use of chatbot\nROBO: in order to speed up this process, designers can use dedicated chatbot design tools, that allow for immediate preview, team collaboration and video export.an important part of the chatbot design is also centered around user testing.\n",
          "name": "stdout"
        }
      ]
    },
    {
      "metadata": {
        "trusted": true
      },
      "cell_type": "code",
      "source": "from __future__ import print_function\nfrom nltk.chat.util import Chat, reflections\n\npairs = (\n    (r'quit',\n     ( \"Thank you. It was good talking to you.\",\n       \"Good-bye.\")),\n\n    (r'Who are you(.*)',\n     ( \"My name is Alpha.\",\n       \"I'm Alpha.\")),\n\n    (r'What is your name(.*)',\n     ( \"My name is Alpha.\",\n       \"I'm Alpha.\")),\n\n    (r'What do you do(.*)',\n     ( \"I speak my mind out.\",\n       \"I chat.\",\n       \"I like making friends.\")),\n\n    (r'Then(.*)',\n     ( \"Nothing special. You tell me.\",\n       \"What else?\",\n       \"Nothing from me. What about you?\")),\n\n    (r'How are you(.*)',\n     ( \"I am fine. Thank You. How are you?\",\n       \"I am fine. How about you?\",\n       \"Fine. Thank You. How about you?\")),\n\n    (r'Hi(.*)',\n     ( \"Hi!!! What is your name?\",\n       \"Hello.\",\n       \"Hi. Great to meet you.\")),\n\n    (r'My name is (.*)',\n     ( \"Hi %1!!!\",\n       \"Hello %1.\",\n       \"Hi %1. Great to meet you.\")),\n\n    (r'You tell me(.*)',\n     ( \"What?\",\n       \"Tell me about yourself.\",\n       \"WHat do you do?\")),\n\n    (r'What else(.*)',\n     ( \"Nothing special. You tell me.\",\n       \"Nothing from me. What about you?\")),\n\n    (r'I need (.*)',\n     ( \"Why do you need %1?\",\n       \"Why?\",\n       \"Are you sure?\")),\n\n    (r'How (.*)',\n     ( \"I am not aure.\",\n       \"I'm not sure. What do you think?\",\n       \"Sorry, I don't know.\")),\n\n    (r'Hello(.*)',\n     ( \"Hi... How are you today?\",\n       \"Hello, How are you?\")),\n\n    (r'Yes',\n     ( \"You seem certain.\",\n       \"Alright\")),\n\n    (r'My (.*)',\n     ( \"I see, your %1.\",\n       \"Oh ok.\")),\n\n    (r'(.*)\\?',\n     ( \"Why do you ask that?\",\n       \"I am not sure.\",\n       \"I do not know the answer to your question\")),\n\n    (r'(.*) (happy|cheerful|glad|good)',\n     ( \"%1 %2\",\n       \"%1 %2\")),\n\n    (r'(.*)',\n     ( \"Alright.\",\n       \"I see.\",\n       \"Very interesting.\"))\n)\n\nalpha_chatbot = Chat(pairs, reflections)\n\ndef alpha_chat():\n    print(\"Alpha\\n---------\")\n    print(\"You can talk to me by typing in English.\")\n    print('Enter \"quit\" to Quit.')\n    print('='*72)\n    print(\"Hello. My name is Alpha. Tell me something about yourself..\")\n\n    alpha_chatbot.converse()\n\ndef demo():\n    alpha_chat()\n\nif __name__ == \"__main__\":\n    demo()\n    ",
      "execution_count": null,
      "outputs": [
        {
          "output_type": "stream",
          "text": "Alpha\n---------\nYou can talk to me by typing in English.\nEnter \"quit\" to Quit.\n========================================================================\nHello. My name is Alpha. Tell me something about yourself..\n>hi\nHi!!! What is your name?\n>Kishan\nAlright.\n>What is you name \nVery interesting.\n>What is your name\nMy name is Alpha.\n>what is your work\nAlright.\n",
          "name": "stdout"
        }
      ]
    },
    {
      "metadata": {
        "trusted": true
      },
      "cell_type": "code",
      "source": "",
      "execution_count": null,
      "outputs": []
    }
  ],
  "metadata": {
    "kernelspec": {
      "name": "python3",
      "display_name": "Python 3",
      "language": "python"
    },
    "language_info": {
      "mimetype": "text/x-python",
      "nbconvert_exporter": "python",
      "name": "python",
      "file_extension": ".py",
      "version": "3.5.4",
      "pygments_lexer": "ipython3",
      "codemirror_mode": {
        "version": 3,
        "name": "ipython"
      }
    }
  },
  "nbformat": 4,
  "nbformat_minor": 2
}