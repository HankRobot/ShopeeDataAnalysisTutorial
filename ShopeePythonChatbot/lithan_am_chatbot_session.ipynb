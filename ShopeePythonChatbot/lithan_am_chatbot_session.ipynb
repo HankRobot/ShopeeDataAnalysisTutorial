{
 "cells": [
  {
   "cell_type": "markdown",
   "metadata": {
    "collapsed": true
   },
   "source": [
    "# Intro Python\n",
    "##  Getting started with Python in Jupyter Notebooks\n",
    "- **Python 3 in Jupyter notebooks**\n",
    "- `print()`\n",
    "- comments \n",
    "- data types basics\n",
    "- variables\n",
    "\n",
    "\n",
    "\n",
    "-----\n",
    "\n",
    "\n",
    "><font size=\"5\" color=\"#00A0B2\"  face=\"verdana\"> <B>Student will be able to</B></font>\n",
    "- use Python 3 in Jupyter notebooks**  \n",
    "- write working code using `print()` and `#` comments\n",
    "- combine Strings using string addition (`+`)\n",
    "- add numbers in code (`+`) \n",
    " "
   ]
  },
  {
   "cell_type": "markdown",
   "metadata": {},
   "source": [
    "### &nbsp;\n",
    "<font size=\"6\" color=\"#00A0B2\"  face=\"verdana\"> <B>Concept</B></font>\n",
    "## Hello World! - python&nbsp; `print()` statement\n",
    "Using code to write \"Hello World!\" on the screen is the traditional first program when learning a new language in computer science\n",
    "\n",
    "Python has a very simple implementation: \n",
    "```python\n",
    "print(\"Hello World!\")\n",
    "```  "
   ]
  },
  {
   "cell_type": "code",
   "execution_count": 6,
   "metadata": {},
   "outputs": [
    {
     "name": "stdout",
     "output_type": "stream",
     "text": [
      "Hello World!\n"
     ]
    }
   ],
   "source": [
    "print(\"Hello World!\")"
   ]
  },
  {
   "cell_type": "markdown",
   "metadata": {},
   "source": [
    "# Concepts\n",
    "# Notebooks and Libraries\n",
    "Jupyter Notebooks provide a balance of jotting down important summary information along with proving a live code development environment where we can write and run python code. This course uses cloud hosted Jupyter Notebooks on Microsoft Azure and we will walk through the basics and some best practices for notebook use.\n",
    "add a notebook library\n",
    "New: https://notebooks.azure.com/library > New Library\n",
    "Link: from a shared Azure Notebook library link > open link, sign in> clone and Run\n",
    "Add: open library > Add Notebooks > from computer > navigate to file(s)\n",
    "working in notebook cells\n",
    "Markdown cells display text in a web page format. Markdown is code that formats the way the cell displays (this cell is Markdown)\n",
    " \n",
    "Code cells contain python code and can be interpreted and run from a cell. Code cells display code and output.\n",
    " \n",
    "in edit or previously run: cells can display in editing mode or cells can display results of code having been run"
   ]
  },
  {
   "cell_type": "markdown",
   "metadata": {},
   "source": [
    "# Concept: Strings\n",
    "\n",
    "WHAT IS A STRING?\n",
    "\n",
    "    Strings were used in \"Hello World!\" print function examples. Strings are sets of characters. In Python strings are in double or single quotes like \"Hello World!\" or 'after edit, save!'\n",
    "\n",
    "    A String is a common type of data, used in programming, consisting of a sequence of 1 or more characters.\n",
    "\n",
    "    A String is a sequence of characters (aka: a string of characters)\n",
    "    Character examples: A, B, C, a, b, c, 1, 2, 3, !, &\n",
    "    A String in python is contained in quotes, single(') or double(\")\n",
    "    String examples: \"ABC\", 'Joana Dias', 'I have 2 pet cats.', \"item #3 cost $3.29 USD\"\n",
    "    Note: the quotes containing a string must come in matched pairs\n",
    "\n",
    "\"Hello\" or 'Hello' are correctly formatted strings\n",
    "\"Hello' is incorrectly formatted starting with double \" and ending with single ' python needs a matching quote to know where the string ends\n",
    "Example\n",
    "\n",
    "#  examples of printing strings with single and double quotes\n",
    "print('strings go in single')\n",
    "print(\"or double quotes\")\n",
    "\n",
    "\n",
    "Task 1\n",
    "\n",
    "PRINT MESSAGES WITH \"DOUBLE QUOTES\" AND 'SINGLE' QUOTES\n",
    "\n",
    "\n",
    "\n",
    "# [ ] enter a string in the print() function using double quotes\n",
    "\n"
   ]
  },
  {
   "cell_type": "code",
   "execution_count": 1,
   "metadata": {},
   "outputs": [
    {
     "name": "stdout",
     "output_type": "stream",
     "text": [
      "strings go in single\n",
      "or double quotes\n"
     ]
    }
   ],
   "source": [
    "# [ ] enter a string in the print() function using single quotes\n",
    "print('strings go in single')\n",
    "# [ ] enter a string in the print() function using double quotes\n",
    "print(\"or double quotes\")"
   ]
  },
  {
   "cell_type": "markdown",
   "metadata": {},
   "source": [
    "# Concept: Integers\n",
    "\n",
    "INTEGERS ARE ANOTHER TYPE\n",
    "\n",
    "    whole numbers such as -2, -1, 0, 1, 2, 3 are Integers\n",
    "    Integers are not placed in quotes\n",
    "    A String can contain any character, this includes letters, spaces, punctuation, number digits and formatting. In a string with digits (\"123\") the digits are text images rather than representations of numeric values.\n",
    "\n",
    "    remember a line of python code starting with the pound or hash symbol (#) indicates a comment\n",
    "\n",
    "    comments are for humans to read and are not run by computers\n",
    "\n",
    "Example\n",
    "\n",
    "# printing an Integer with python\n",
    "print(299)\n",
    "\n",
    "# printing a string made of Integer (number) characters with python\n",
    "print(\"2017\")\n",
    " \n",
    " \n",
    " "
   ]
  },
  {
   "cell_type": "code",
   "execution_count": 3,
   "metadata": {},
   "outputs": [
    {
     "name": "stdout",
     "output_type": "stream",
     "text": [
      "299\n",
      "2017\n"
     ]
    }
   ],
   "source": [
    "# printing an Integer with python\n",
    "print(299)\n",
    "# printing a string made of Integer (number) characters with python\n",
    "print(\"2017\")"
   ]
  },
  {
   "cell_type": "markdown",
   "metadata": {},
   "source": [
    "# Concepts: Variables\n",
    "\n",
    "# VARIABLES & STORING STRINGS IN VARIABLES\n",
    "\n",
    "    Variables are named containers\n",
    "\n",
    "    Computer programs often create storage for things that are used in repeated processing like item_price, student_name, stock_symbol. In python a variable is a type of object that can be addressed by name to access the assigned contents.\n",
    "\n",
    "    Name a variable staring with a letter or underscore \"_\"\n",
    "\n",
    "There are different styles for creating variables this course uses lowercase descriptive names connected by underscores:\n",
    "\n",
    "    item_price\n",
    "    student_name\n",
    "    stock_symbol\n",
    "descriptive names reduce the need for comments in the code and make it easier to share code or read code written long ago\n",
    "\n",
    "    Variables can hold strings\n",
    "\n",
    "    once a variable is assigned:\n",
    "\n",
    "current_msg = \"I am a string\"\n",
    "\n",
    "    a python program can refer to the variable,   current_msg,   in code\n",
    "    so that  current_msg, can be used like the string value  (\"I am a string\")   which it stores\n",
    "\n",
    "Variable reassignment\n",
    "\n",
    "    We can reassign a variable, changing the contents. current_msg = \"new current message\"\n",
    "\n",
    "Variables can be used in place of literals\n",
    "\n",
    "    If we initialize current_msg = \"new current message\" then\n",
    "    the literal string \"new current message\" and the variable current_msg are the same when used in code\n",
    "\n",
    "Example\n",
    "\n",
    "Initializing variables\n",
    "literals & variables in printing\n",
    "Variable reassignment\n",
    " \n",
    "# initialize the variable  \n",
    "current_msg = \"I am a string\"  \n",
    "\n",
    "# print literal string  \n",
    "print(\"I am a string\")  \n",
    "\n",
    "# print variable string  \n",
    "print(current_msg)  \n",
    " # assign a new string to the current_msg  \n",
    "current_msg = \"Run this cell using Ctrl+Enter\"  \n",
    "\n",
    "print(current_msg) "
   ]
  },
  {
   "cell_type": "code",
   "execution_count": 4,
   "metadata": {},
   "outputs": [
    {
     "name": "stdout",
     "output_type": "stream",
     "text": [
      "I am a string\n",
      "I am a string\n",
      "Run this cell using Ctrl+Enter\n"
     ]
    }
   ],
   "source": [
    "# initialize the variable  \n",
    "current_msg = \"I am a string\"  \n",
    "\n",
    "# print literal string  \n",
    "print(\"I am a string\")  \n",
    "\n",
    "# print variable string  \n",
    "print(current_msg)  \n",
    " # assign a new string to the current_msg  \n",
    "current_msg = \"Run this cell using Ctrl+Enter\"  \n",
    "\n",
    "print(current_msg) "
   ]
  },
  {
   "cell_type": "markdown",
   "metadata": {},
   "source": [
    "# Concepts: Data Types\n",
    "\n",
    "# DATA TYPES IN VARIABLES\n",
    "\n",
    "variables can be initialized with different data types. Below we see item_price is a decimal (aka - float) and student_name is string\n",
    "\n",
    "    item_price = 10.25 #item_price initialized as a numeric value (no quotes)\n",
    "    student_name =\"Dias, Joana\" #student_name initialized as a string\n",
    "    license_plate = \"123A\" #license_plate initialized as a string\n",
    "Variables can start initialized as an Integer number data type\n",
    "\n",
    "x = 22\n",
    "    here the Integer 22  value was assigned to the variable  x\n",
    "\n",
    "    The type of data a variable holds can be changed,\n",
    "\n",
    "    Python variables can change the type of data a variable holds\n",
    "\n",
    "x = 22\n",
    "x = \"I am a string\"\n",
    "x  changed type from Integer  x = 22   to string  x = \"I am a string\"\n",
    "\n",
    "    Best Practice: Friendly Names\n",
    "    Friendly name examples, (item_price, student_name,license_plate), were used above.\n",
    "    Variables help us to write code that can be used repeatedly\n",
    "\n",
    "A personalized letter can be sent to every student with individual names by using a name in a variable. Let's start with printing a name based on string variable.\n",
    "\n",
    "Create a variable, name, at the top of the next cell. Assign a string value to   name.\n",
    "\n",
    "Remember to use the quotes for string values\n",
    "\n",
    "Examples\n",
    "\n",
    "name = \"Joana Dias\"\n",
    "print(name)\n",
    "test_value = 22\n",
    "print(test_value)\n",
    "test_value = \"Joana\"\n",
    "print(test_value)"
   ]
  },
  {
   "cell_type": "code",
   "execution_count": 5,
   "metadata": {},
   "outputs": [
    {
     "name": "stdout",
     "output_type": "stream",
     "text": [
      "Joana Dias\n",
      "22\n",
      "Joana\n"
     ]
    }
   ],
   "source": [
    "name = \"Joana Dias\"\n",
    "print(name)\n",
    "test_value = 22\n",
    "print(test_value)\n",
    "test_value = \"Joana\"\n",
    "print(test_value)"
   ]
  },
  {
   "cell_type": "markdown",
   "metadata": {},
   "source": [
    "# Concept: Using type\n",
    "\n",
    "USING THE PYTHON TYPE() FUNCTION\n",
    "\n",
    "    type() returns the data type of Python objects\n",
    "\n",
    "    str, int, float\n",
    "\n",
    "What does using type() reveal?\n",
    "\n",
    "    str: when type() returns str that means it has evaluated a string characters (numbers, letters, punctuation...) in quotes\n",
    "    int: when type() returns int that means it has evaluated an Integer (+/- whole numbers)\n",
    "    float: when type() returns float that means it has evaluated decimal numbers (e.g. 3.33, 0.01, 9.9999 and 3.0), ...more later in the course\n",
    "Example\n",
    "\n",
    "Read and run the code for each sample\n",
    " \n",
    "type(\"Hello World!\")\n",
    "type(501)\n",
    "type(8.33333)\n",
    "student_name = \"Colette Browning\"\n",
    "type(student_name)\n"
   ]
  },
  {
   "cell_type": "code",
   "execution_count": 7,
   "metadata": {},
   "outputs": [
    {
     "data": {
      "text/plain": [
       "str"
      ]
     },
     "execution_count": 7,
     "metadata": {},
     "output_type": "execute_result"
    }
   ],
   "source": [
    "type(\"Hello World!\")\n",
    "\n"
   ]
  },
  {
   "cell_type": "code",
   "execution_count": 8,
   "metadata": {},
   "outputs": [
    {
     "data": {
      "text/plain": [
       "int"
      ]
     },
     "execution_count": 8,
     "metadata": {},
     "output_type": "execute_result"
    }
   ],
   "source": [
    "type(501)"
   ]
  },
  {
   "cell_type": "code",
   "execution_count": 9,
   "metadata": {},
   "outputs": [
    {
     "data": {
      "text/plain": [
       "float"
      ]
     },
     "execution_count": 9,
     "metadata": {},
     "output_type": "execute_result"
    }
   ],
   "source": [
    "\n",
    "type(8.33333)"
   ]
  },
  {
   "cell_type": "code",
   "execution_count": 10,
   "metadata": {},
   "outputs": [
    {
     "data": {
      "text/plain": [
       "str"
      ]
     },
     "execution_count": 10,
     "metadata": {},
     "output_type": "execute_result"
    }
   ],
   "source": [
    "student_name = \"Colette Browning\"\n",
    "type(student_name)"
   ]
  },
  {
   "cell_type": "markdown",
   "metadata": {},
   "source": [
    "# USE ADDITION IN PRINT ()\n",
    "\n",
    "Use print() to show the results of multiple lines of output\n",
    "\n",
    "Example\n",
    "\n",
    "    ADDITION IN VARIABLE ASSIGNMENTS AND IN PRINT()\n",
    "\n",
    "# review & run code for assigning variables & using addition\n",
    "add_two = 34 + 16\n",
    "first_name = \"Alton\"\n",
    "greeting = \"Happy Birthday \" + first_name\n",
    "\n",
    "print(add_two)\n",
    "print(greeting)\n",
    "#  review & run code for Integer addition in variables and in a print function\n",
    "int_sum = 6 + 7\n",
    "print(int_sum)\n",
    "print(11 + 15)\n",
    "print()\n",
    "# string addition in variables and in print()function\n",
    "hat_msg = \"I do not wear \" + \"a hat\"  \n",
    "print(hat_msg)\n",
    "print(\"at \" + \"dinner\")"
   ]
  },
  {
   "cell_type": "code",
   "execution_count": 11,
   "metadata": {},
   "outputs": [
    {
     "name": "stdout",
     "output_type": "stream",
     "text": [
      "I do not wear a hat\n",
      "at dinner\n"
     ]
    }
   ],
   "source": [
    "hat_msg = \"I do not wear \" + \"a hat\"  \n",
    "print(hat_msg)\n",
    "print(\"at \" + \"dinner\")"
   ]
  },
  {
   "cell_type": "code",
   "execution_count": 2,
   "metadata": {},
   "outputs": [
    {
     "name": "stdout",
     "output_type": "stream",
     "text": [
      "13\n",
      "26\n",
      "\n"
     ]
    }
   ],
   "source": [
    "int_sum = 6 + 7 \n",
    "print(int_sum) \n",
    "print(11 + 15) \n",
    "print()"
   ]
  },
  {
   "cell_type": "code",
   "execution_count": 3,
   "metadata": {},
   "outputs": [
    {
     "name": "stdout",
     "output_type": "stream",
     "text": [
      "50\n",
      "Happy Birthday Alton\n"
     ]
    }
   ],
   "source": [
    "add_two = 34 + 16 \n",
    "first_name = \"Alton\" \n",
    "greeting = \"Happy Birthday \" + first_name\n",
    "print(add_two) \n",
    "print(greeting)\n"
   ]
  },
  {
   "cell_type": "markdown",
   "metadata": {},
   "source": [
    "# Concept: user input\n",
    "\n",
    "INPUT()\n",
    "\n",
    "get information from users with input()\n",
    "\n",
    "the input() function prompts the user to supply data returning that data as a string\n",
    "\n",
    "Example\n",
    "\n",
    "# review and run code - enter a small integer in the text box\n",
    "print(\"enter a small int: \")\n",
    "small_int = input()\n",
    "print(\"small int: \")\n",
    "print(small_int)"
   ]
  },
  {
   "cell_type": "code",
   "execution_count": 12,
   "metadata": {},
   "outputs": [
    {
     "name": "stdout",
     "output_type": "stream",
     "text": [
      "enter a small int: \n",
      "1\n",
      "small int: \n",
      "1\n"
     ]
    }
   ],
   "source": [
    "print(\"enter a small int: \")\n",
    "small_int = input()\n",
    "print(\"small int: \")\n",
    "print(small_int)"
   ]
  },
  {
   "cell_type": "markdown",
   "metadata": {},
   "source": [
    "# Concept: input() prompts\n",
    "\n",
    "USER PROMPTS USING INPUT()\n",
    "\n",
    "    the input() function has an optional string argument which displays the string intended to inform a user what to enter\n",
    "    input() works similar to print() in the way it displays arguments as output\n",
    "# Example\n",
    "\n",
    "student_name = input(\"enter the student name: \")  \n",
    "print(\"Hi \" + student_name)"
   ]
  },
  {
   "cell_type": "code",
   "execution_count": 5,
   "metadata": {},
   "outputs": [
    {
     "name": "stdout",
     "output_type": "stream",
     "text": [
      "enter the student name: John\n",
      "Hi John\n"
     ]
    }
   ],
   "source": [
    "student_name = input(\"enter the student name: \")  \n",
    "print(\"Hi \" + student_name)"
   ]
  },
  {
   "cell_type": "markdown",
   "metadata": {},
   "source": [
    "# Concept: print formatting\n",
    "\n",
    "USING COMMA PRINT FORMATTING WITH STRINGS\n",
    "\n",
    "    Python provides several methods of formatting strings in the print() function beyond string addition\n",
    "\n",
    "    The print() function supports using commas to combine strings for output\n",
    "    by comma separating strings print() will output each string separated with a space by default\n",
    "    \n",
    "    comma formatted print()\n",
    "\n",
    "print 3 strings on the same line using commas inside the print() function\n",
    "Example\n",
    "\n",
    "# review and run code\n",
    "\n",
    "name = \"Colette\"\n",
    "\n",
    "# string addition \n",
    "print(\"Hello \" + name + \"!\")\n",
    "\n",
    "# comma separation formatting\n",
    "print(\"Hello to\",name,\"who is from the city\")"
   ]
  },
  {
   "cell_type": "code",
   "execution_count": 6,
   "metadata": {},
   "outputs": [
    {
     "name": "stdout",
     "output_type": "stream",
     "text": [
      "Hello to John who is from the city\n"
     ]
    }
   ],
   "source": [
    "name = \"John\"\n",
    "\n",
    "print(\"Hello to\",name,\"who is from the city\")"
   ]
  },
  {
   "cell_type": "markdown",
   "metadata": {},
   "source": [
    "# Concept: Function with Arguments\n",
    "\n",
    "CALLING FUNCTIONS WITH ARGUMENTS\n",
    "\n",
    "Functions are used for code tasks that are intended to be reused\n",
    "\n",
    "Python allows us to create User Defined Functions and provides many Built-in Functions such as print()\n",
    "\n",
    "    print() can be called using arguments (or without) and sends text to standard output, such as the console.\n",
    "    print() uses Parameters to define the variable Arguments that can be passed to the Function.\n",
    "    print() defines multiple string/numbers parameters which means we can send a long list of Arguments to print(), separated by commas.\n",
    "    print() can also be called directly with just its name and empty parenthesis and it will return a blank line to standard output\n",
    "Example\n",
    "\n",
    "print('Hello World!', 'I am sending string arguments to print ')\n",
    "student_age = 17\n",
    "student_name = \"Hiroto Yamaguchi\"\n",
    "print(student_name,'will be in the class for',student_age, 'year old students.')\n",
    "print(\"line 1\")\n",
    "print(\"line 2\")\n",
    "# line 3 is an empty return - the default when no arguments\n",
    "print()\n",
    "print(\"line 4\")"
   ]
  },
  {
   "cell_type": "markdown",
   "metadata": {},
   "source": [
    "# Concept: Simple Functions\n",
    "\n",
    "CREATE A SIMPLE FUNCTION\n",
    "\n",
    "Creating user defined functions is at the core of computer programming. Functions enable code reuse and make code easier to develop and maintain.\n",
    "\n",
    "basics of a user defined function\n",
    "\n",
    "define a function with def\n",
    "use indentation (4 spaces)\n",
    "define parameters\n",
    "optional parameters\n",
    "return values (or none)\n",
    "function scope (basics defaults)\n",
    "def some_function():\n",
    "\n",
    "use the def statement when creating a function\n",
    "\n",
    "use a function name that starts with a letter or underscore (usually a lower-case letter)\n",
    "function names can contain letters, numbers or underscores\n",
    "parenthesis () follow the function name\n",
    "a colon : follows the parenthesis\n",
    "the code for the function is indented under the function definition (use 4 spaces for this course)\n",
    "def some_function():\n",
    "   #code the function tasks indented here    \n",
    "The end of the function is denoted by returning to no indentation\n",
    "\n",
    "Example\n",
    "\n",
    "# defines a function named say_hi\n",
    "def say_hi():\n",
    "    print(\"Hello there!\")\n",
    "    print(\"goodbye\")\n",
    "# define three_three \n",
    "def three_three():\n",
    "    print(33) "
   ]
  },
  {
   "cell_type": "markdown",
   "metadata": {},
   "source": [
    "# Concept: Calling Functions\n",
    "\n",
    "CALLING A FUNCTION BY NAME\n",
    "\n",
    "Call a simple function using the function name followed by parentheses. For instance, calling print function is\n",
    "print()\n",
    "\n",
    "Example\n",
    "\n",
    "# Program defines and calls the say_hi & three_three functions\n",
    "# [ ] review and run the code\n",
    "\n",
    "def say_hi():\n",
    "    print(\"Hello there!\")\n",
    "    print(\"goodbye\")\n",
    "# end of indentation ends the function\n",
    "\n",
    "# define three_three \n",
    "def three_three():\n",
    "    print(33) \n",
    "\n",
    "# calling the functions\n",
    "say_hi()\n",
    "print()\n",
    "three_three()"
   ]
  },
  {
   "cell_type": "code",
   "execution_count": 16,
   "metadata": {},
   "outputs": [
    {
     "name": "stdout",
     "output_type": "stream",
     "text": [
      "Hello there!\n",
      "goodbye\n",
      "\n",
      "33\n"
     ]
    }
   ],
   "source": [
    "# [ ] review and run the code\n",
    "\n",
    "def say_hi():\n",
    "    print(\"Hello there!\")\n",
    "    print(\"goodbye\")\n",
    "# end of indentation ends the function\n",
    "\n",
    "# define three_three \n",
    "def three_three():\n",
    "    print(33) \n",
    "\n",
    "# calling the functions\n",
    "say_hi()\n",
    "print()\n",
    "three_three()"
   ]
  },
  {
   "cell_type": "markdown",
   "metadata": {},
   "source": [
    "# Concept: Function Parameters\n",
    "\n",
    "FUNCTIONS THAT HAVE PARAMETERS\n",
    "\n",
    "print() and type() are examples of built-in functions that have Parameters defined\n",
    "\n",
    "type() has a parameter for a Python Object and sends back the type of the object\n",
    "\n",
    "an Argument is a value given for a parameter when calling a function\n",
    "\n",
    "type is called providing an Argument - in this case the string \"Hello\"\n",
    "type(\"Hello\")\n",
    "DEFINING FUNCTION PARAMETERS\n",
    "\n",
    "Parameters are defined inside of the parenthesis as part of a function def statement\n",
    "Parameters are typically copies of objects that are available for use in function code\n",
    "def say_this(phrase):  \n",
    "      print(phrase)\n",
    "FUNCTION CAN HAVE DEFAULT ARGUMENTS\n",
    "\n",
    "Default Arguments are used if no argument is supplied\n",
    "Default arguments are assigned when creating the parameter list\n",
    "def say_this(phrase = \"Hi\"):  \n",
    "      print(phrase)\n",
    "Example\n",
    "\n",
    "# yell_this() yells the string Argument provided\n",
    "def yell_this(phrase):\n",
    "    print(phrase.upper() + \"!\")\n",
    "    \n",
    "# call function with a string\n",
    "yell_this(\"It is time to save the notebook\")\n",
    "# use a default argument\n",
    "def say_this(phrase = \"Hi\"):  \n",
    "    print(phrase)\n",
    "        \n",
    "say_this()\n",
    "say_this(\"Bye\")\n"
   ]
  },
  {
   "cell_type": "code",
   "execution_count": 9,
   "metadata": {},
   "outputs": [
    {
     "name": "stdout",
     "output_type": "stream",
     "text": [
      "IT IS TIME TO LEARN PYTHON !\n",
      "Hi\n",
      "Bye\n"
     ]
    }
   ],
   "source": [
    "# yell_this() yells the string Argument provided\n",
    "def yell_this(phrase):\n",
    "    print(phrase.upper() + \"!\")\n",
    "    \n",
    "# call function with a string\n",
    "yell_this(\"It is time to learn Python \")\n",
    "# use a default argument\n",
    "def say_this(phrase = \"Hi\"):  \n",
    "    print(phrase)\n",
    "        \n",
    "say_this()\n",
    "say_this(\"Bye\")"
   ]
  },
  {
   "cell_type": "markdown",
   "metadata": {},
   "source": [
    "# Concept: Function with Return Value\n",
    "\n",
    "CALLING A FUNCTION WITH A RETURN VALUE\n",
    "\n",
    "type() returns an object type\n",
    "type() can be called with a float the return value can be stored in a variable\n",
    "object_type = type(2.33)\n",
    "CREATING A FUNCTION WITH A RETURN VALUE\n",
    "\n",
    "return keyword in a function returns a value after exiting the function\n",
    "def msg_double(phrase):\n",
    "      double = phrase + \" \" + phrase\n",
    "      return double\n",
    "Example\n",
    "\n",
    "review and run the code\n",
    "\n",
    "# Message double returns the string Argument doubled\n",
    "def msg_double(phrase):\n",
    "      double = phrase + \" \" + phrase\n",
    "      return double\n",
    "\n",
    "# save return value in variable\n",
    "msg_2x = msg_double(\"let's go\")\n",
    "print(msg_2x)\n",
    "# example of functions with return values used in functions\n",
    "def msg_double(phrase):\n",
    "      double = phrase + \" \" + phrase\n",
    "      return double\n",
    "\n",
    "# prints the returned object\n",
    "print(msg_double(\"Save Now!\"))\n",
    "\n",
    "# echo the type of the returned object\n",
    "type(msg_double(\"Save Now!\"))\n"
   ]
  },
  {
   "cell_type": "code",
   "execution_count": 8,
   "metadata": {},
   "outputs": [
    {
     "name": "stdout",
     "output_type": "stream",
     "text": [
      "let's go to Lithan  let's go to Lithan \n"
     ]
    }
   ],
   "source": [
    "def msg_double(phrase): \n",
    "    double = phrase + \" \" + phrase \n",
    "    return double\n",
    "msg_2x = msg_double(\"let's go to Lithan \") \n",
    "print(msg_2x)"
   ]
  },
  {
   "cell_type": "markdown",
   "metadata": {},
   "source": [
    "# Example\n",
    "\n",
    "review and run the code\n",
    "\n",
    "def make_schedule(period1, period2):\n",
    "    schedule = (\"[1st] \" + period1.title() + \", [2nd] \" + period2.title())\n",
    "    return schedule\n",
    "\n",
    "student_schedule = make_schedule(\"mathematics\", \"history\")\n",
    "print(\"SCHEDULE:\", student_schedule)"
   ]
  },
  {
   "cell_type": "code",
   "execution_count": 11,
   "metadata": {},
   "outputs": [
    {
     "name": "stdout",
     "output_type": "stream",
     "text": [
      "SCHEDULE: [1st] Python Programming, [2nd] Data Science \n"
     ]
    }
   ],
   "source": [
    "def make_schedule(period1, period2):\n",
    "    schedule = (\"[1st] \" + period1.title() + \", [2nd] \" + period2.title())\n",
    "    return schedule\n",
    "\n",
    "student_schedule = make_schedule(\"Python programming\", \"Data Science \")\n",
    "print(\"SCHEDULE:\", student_schedule)"
   ]
  },
  {
   "cell_type": "markdown",
   "metadata": {},
   "source": [
    "# Concept: Boolean Conditional\n",
    "\n",
    "CONDITIONALS USE TRUE OR FALSE\n",
    "\n",
    "if\n",
    "else\n",
    "\n",
    "# Example\n",
    "\n",
    "if True:\n",
    "    print(\"True means do something\")\n",
    "else:\n",
    "    print(\"Not True means do something else\")\n",
    "hot_tea = True\n",
    "\n",
    "if hot_tea:\n",
    "    print(\"enjoy some hot tea!\")\n",
    "else:\n",
    "    print(\"enjoy some tea, and perhaps try hot tea next time.\")\n",
    "    \n",
    "    \n",
    "    \n",
    "# USING CONDITIONALS WITH BOOLEAN STRING TEST METHODS\n",
    "\n",
    "if student_name.isalpha():\n",
    ".isalnum()\n",
    ".istitle()\n",
    ".isdigit()\n",
    ".islower()\n",
    ".startswith()\n",
    "Example\n",
    "\n",
    "# review code and run cell\n",
    "favorite_book = input(\"Enter the title of a favorite book: \")\n",
    "\n",
    "if favorite_book.istitle():\n",
    "    print(favorite_book, \"- nice capitalization in that title!\")\n",
    "else:\n",
    "    print(favorite_book, \"- consider capitalization throughout for book titles.\")\n",
    "# review code and run cell\n",
    "a_number = input(\"enter a positive integer number: \")\n",
    "\n",
    "if a_number.isdigit():\n",
    "    print(a_number, \"is a positive integer\")\n",
    "else:\n",
    "    print(a_number, \"is not a positive integer\")\n",
    "    \n"
   ]
  },
  {
   "cell_type": "code",
   "execution_count": 1,
   "metadata": {},
   "outputs": [
    {
     "name": "stdout",
     "output_type": "stream",
     "text": [
      "True means do something\n",
      "enjoy some hot tea!\n"
     ]
    }
   ],
   "source": [
    "if True:\n",
    "    print(\"True means do something\")\n",
    "else:\n",
    "    print(\"Not True means do something else\")\n",
    "hot_tea = True\n",
    "\n",
    "if hot_tea:\n",
    "    print(\"enjoy some hot tea!\")\n",
    "else:\n",
    "    print(\"enjoy some tea, and perhaps try hot tea next time.\")"
   ]
  },
  {
   "cell_type": "code",
   "execution_count": 2,
   "metadata": {},
   "outputs": [
    {
     "name": "stdout",
     "output_type": "stream",
     "text": [
      "Enter the title of a favorite book: Kimi no nawa\n",
      "Kimi no nawa - consider capitalization throughout for book titles.\n"
     ]
    }
   ],
   "source": [
    "favorite_book = input(\"Enter the title of a favorite book: \")\n",
    "\n",
    "if favorite_book.istitle():\n",
    "    print(favorite_book, \"- nice capitalization in that title!\")\n",
    "else:\n",
    "    print(favorite_book, \"- consider capitalization throughout for book titles.\")"
   ]
  },
  {
   "cell_type": "markdown",
   "metadata": {},
   "source": [
    "# Concept: Conditional elif\n",
    "\n",
    "# USING THE CONDITIONAL ELIF\n",
    "\n",
    "Review: if and else\n",
    "\n",
    "    if means \"if a condition exists then do some task.\" if is usually followed by else\n",
    "    else means \"or else after we have tested if, then do an alternative task\"\n",
    "    When there is a need to test for multiple conditions there is elif\n",
    "\n",
    "    elif  statement follows  if, and means \"else, if \" another condition exists do something else\n",
    "    elif  can be used many times\n",
    "    else  is used after the last test condition (if or elif)\n",
    "    in pseudo code\n",
    "\n",
    "If it is raining bring an umbrella\n",
    "or Else If  (elif) it is snowing bring a warm coat\n",
    "or Else go as usual\n",
    "\n",
    "Like else, the elif only executes when the previous if conditional is False\n",
    "\n",
    "Example\n",
    "\n",
    "# [ ] review the code then run testing different inputs\n",
    "# WHAT TO WEAR\n",
    "weather = input(\"Enter weather (sunny, rainy, snowy): \") \n",
    "\n",
    "if weather.lower() == \"sunny\":\n",
    "    print(\"Wear a t-shirt\")\n",
    "elif weather.lower() == \"rainy\":\n",
    "    print(\"Bring an umbrella and boots\")\n",
    "elif weather.lower() == \"snowy\":\n",
    "    print(\"Wear a warm coat and hat\")\n",
    "else:\n",
    "    print(\"Sorry, not sure what to suggest for\", weather)"
   ]
  },
  {
   "cell_type": "code",
   "execution_count": 14,
   "metadata": {},
   "outputs": [
    {
     "name": "stdout",
     "output_type": "stream",
     "text": [
      "Enter weather (sunny, rainy, snowy): rainy\n",
      "Bring an umbrella and boots\n"
     ]
    }
   ],
   "source": [
    "weather = input(\"Enter weather (sunny, rainy, snowy): \") \n",
    "\n",
    "if weather.lower() == \"sunny\":\n",
    "    print(\"Wear a t-shirt\")\n",
    "elif weather.lower() == \"rainy\":\n",
    "    print(\"Bring an umbrella and boots\")\n",
    "elif weather.lower() == \"snowy\":\n",
    "    print(\"Wear a warm coat and hat\")\n",
    "else:\n",
    "    print(\"Sorry, not sure what to suggest for\", weather)"
   ]
  },
  {
   "cell_type": "markdown",
   "metadata": {},
   "source": [
    "# Concept: while True loop\n",
    "\n",
    "# USING THE WHILE TRUE: LOOP\n",
    "\n",
    "while True: is known as the forever loop because it ...loops forever\n",
    "\n",
    "Using the while True: statement results in a loop that continues to run forever\n",
    "...or, until the loop is interrupted, such as with a break statement\n",
    "\n",
    "BREAK\n",
    "\n",
    "in a while loop, causes code flow to exit the loop\n",
    "\n",
    "a conditional can implement break to exit a while True loop\n",
    "\n",
    "# [ ] review WHAT TO WEAR code then run testing different inputs\n",
    "while True:\n",
    "    weather = input(\"Enter weather (sunny, rainy, snowy, or quit): \") \n",
    "    print()\n",
    "\n",
    "    if weather.lower() == \"sunny\":\n",
    "        print(\"Wear a t-shirt and sunscreen\")\n",
    "        break\n",
    "    elif weather.lower() == \"rainy\":\n",
    "        print(\"Bring an umbrella and boots\")\n",
    "        break\n",
    "    elif weather.lower() == \"snowy\":\n",
    "        print(\"Wear a warm coat and hat\")\n",
    "        break\n",
    "    elif weather.lower().startswith(\"q\"):\n",
    "        print('\"quit\" detected, exiting')\n",
    "        break\n",
    "    else:\n",
    "        print(\"Sorry, not sure what to suggest for\", weather +\"\\n\")\n"
   ]
  },
  {
   "cell_type": "code",
   "execution_count": 2,
   "metadata": {},
   "outputs": [
    {
     "name": "stdout",
     "output_type": "stream",
     "text": [
      "Enter weather (sunny, rainy, snowy, or quit): sunnuy\n",
      "\n",
      "Sorry, not sure what to suggest for sunnuy\n",
      "\n",
      "Enter weather (sunny, rainy, snowy, or quit): sunny\n",
      "\n",
      "Wear a t-shirt and sunscreen\n"
     ]
    }
   ],
   "source": [
    "while True:\n",
    "    weather = input(\"Enter weather (sunny, rainy, snowy, or quit): \") \n",
    "    print()\n",
    "\n",
    "    if weather.lower() == \"sunny\":\n",
    "        print(\"Wear a t-shirt and sunscreen\")\n",
    "        break\n",
    "    elif weather.lower() == \"rainy\":\n",
    "        print(\"Bring an umbrella and boots\")\n",
    "        break\n",
    "    elif weather.lower() == \"snowy\":\n",
    "        print(\"Wear a warm coat and hat\")\n",
    "        break\n",
    "    elif weather.lower().startswith(\"q\"):\n",
    "        print('\"quit\" detected, exiting')\n",
    "        break\n",
    "    else:\n",
    "        print(\"Sorry, not sure what to suggest for\", weather +\"\\n\")\n",
    "\n"
   ]
  },
  {
   "cell_type": "markdown",
   "metadata": {},
   "source": [
    "# What is Chat Bot \n",
    "\n",
    "\n",
    " \n",
    "Chatbots are the innovation done by intelligent humans to serve humanity intelligently. It’s the most advanced & simplest way humans can interact with computers to get their things done.\n",
    "As per Wiki:\n",
    "A chatbot (also known as a smartbot, conversational bot, chatterbot, interactive agent, conversational interface, Conversational AI, talkbot or artificial conversational entity) is a computer program or an artificial intelligence which conducts a conversation via auditory or textual methods.\n",
    "\n",
    "An artificial intelligence developed to collect or provide online information to customers or learners interactively. \n",
    "Artificial intelligence is changing the way we search and get things done and Chatbots are the real example of human aspiration to get rid of doing things which doesn’t excites them much.\n",
    "\n",
    "\n",
    "\n",
    "# How Chatbot Works? What is the technology empowering Them ?\n",
    "Most of the chatbots are a kind of messaging interface where instead of humans answering to your messages bots are responding. fundamentally they may look like another app. But the catch is that UI layer where you interact.\n",
    "The conversation humans have with bots is powered by ML algorithms which breaks down your messages into human understandable natural languages using NLP techniques and responds to your queries similar to what you can expect from any human on the other side .\n",
    "\n",
    "\n",
    "\n",
    "They usually rely on machine learning, especially on NLP. \n",
    "\n",
    "# Examples\n",
    "Apple’s Siri\n",
    "Amazon’s Alexa\n",
    "Google Assistant\n",
    "Microsoft’s Cortana  \n"
   ]
  },
  {
   "cell_type": "code",
   "execution_count": 1,
   "metadata": {},
   "outputs": [
    {
     "name": "stdout",
     "output_type": "stream",
     "text": [
      "You:hi\n",
      "Bot:Good Morning\n",
      "You:\n",
      "Bot:i dont know \n",
      "You:bye\n",
      "Bot:i dont know \n"
     ]
    }
   ],
   "source": [
    "import random\n",
    "words = (\"hi\", \"hey\",\"greetings\")\n",
    "resp = [\"Good Morning\"]\n",
    "\n",
    "def fun(sent):\n",
    "    for i in sent.split(' '):\n",
    "        if i.lower() in words:\n",
    "            return random.choice(resp)\n",
    "        else:\n",
    "            return \"i dont know \"\n",
    "while True:\n",
    "    ip = input(\"You:\")\n",
    "    bot = fun(ip)\n",
    "    print(\"Bot:\" + bot)\n",
    "    if \"bye\" in ip:\n",
    "        break"
   ]
  },
  {
   "cell_type": "code",
   "execution_count": null,
   "metadata": {},
   "outputs": [
    {
     "name": "stdout",
     "output_type": "stream",
     "text": [
      "0:How are you\n",
      "1:What is your name\n",
      "2:How is the weather today\n",
      "Please select your options0\n",
      "bot reposnse:im fine thank you \n",
      "0:How are you\n",
      "1:What is your name\n",
      "2:How is the weather today\n",
      "Please select your options1\n",
      "bot reposnse:bot\n",
      "0:How are you\n",
      "1:What is your name\n",
      "2:How is the weather today\n",
      "Please select your options3\n",
      "bot reposnse:i dont knwo yet\n",
      "0:How are you\n",
      "1:What is your name\n",
      "2:How is the weather today\n"
     ]
    }
   ],
   "source": [
    "import random\n",
    "import sys\n",
    "words = (\n",
    "        \"How are you\",\n",
    "         \"What is your name\",\n",
    "         \"How is the weather today\")\n",
    "resp = [\"im fine thank you \", \n",
    "        \"bot\",\n",
    "        \"Sunny\"]\n",
    "\n",
    "def wordslist():\n",
    "    for i in range(len(words)):\n",
    "        print(str(i)+\":\"+words[i])\n",
    "def checkwordsbyindex():\n",
    "    wordslist()\n",
    "    Qid = input(\"Please select your options\")\n",
    "    Resid = ''\n",
    "    if \"bye\" in Qid:\n",
    "        sys.exit()\n",
    "    elif int(Qid) < len(words):\n",
    "        Resid = resp[int(Qid)]\n",
    "    else:\n",
    "        Resid = \"i dont knwo yet\"\n",
    "    return Resid \n",
    "while True:\n",
    "    response  = checkwordsbyindex()\n",
    "    print(\"bot reposnse:\" + response)"
   ]
  }
 ],
 "metadata": {
  "celltoolbar": "Edit Metadata",
  "kernelspec": {
   "display_name": "Python 3",
   "language": "python",
   "name": "python3"
  },
  "language_info": {
   "codemirror_mode": {
    "name": "ipython",
    "version": 3
   },
   "file_extension": ".py",
   "mimetype": "text/x-python",
   "name": "python",
   "nbconvert_exporter": "python",
   "pygments_lexer": "ipython3",
   "version": "3.7.3"
  }
 },
 "nbformat": 4,
 "nbformat_minor": 2
}
